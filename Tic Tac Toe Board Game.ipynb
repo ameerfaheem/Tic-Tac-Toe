{
 "cells": [
  {
   "cell_type": "markdown",
   "metadata": {},
   "source": [
    "# TIC TAC TOE Board Game"
   ]
  },
  {
   "cell_type": "markdown",
   "metadata": {},
   "source": [
    "This is the complete code for a multiplayer tic tac toe game built in Python. \n",
    "it will allow two individuals to play the game on a turn base in the same machine.\n",
    "I have divided the code into small steps to make it easier to understand and follow and also a brief description of what we want to achieve with every step.\n",
    "\n",
    "\n"
   ]
  },
  {
   "cell_type": "markdown",
   "metadata": {},
   "source": [
    "### Step 1"
   ]
  },
  {
   "cell_type": "code",
   "execution_count": 1,
   "metadata": {},
   "outputs": [],
   "source": [
    "#setting up the board as a list, where each index 1-9 corresponds with a number on a number pad."
   ]
  },
  {
   "cell_type": "code",
   "execution_count": 2,
   "metadata": {},
   "outputs": [],
   "source": [
    "from IPython.display import clear_output\n",
    "\n",
    "def display_board(board):\n",
    "    \n",
    "    clear_output()\n",
    "    print ('Here is the current board')\n",
    "    print ('\\n')\n",
    "    print (' '+' '+' '+'|'+' '+' '+' '+'|'+' '+' '+' ')\n",
    "    print (' '+board[7]+' '+'|'+' '+board[8]+' '+'|'+' '+board[9]+' ')\n",
    "    print (' '+' '+' '+'|'+' '+' '+' '+'|'+' '+' '+' ')\n",
    "    print ('---|---|---')\n",
    "    \n",
    "    print (' '+' '+' '+'|'+' '+' '+' '+'|'+' '+' '+' ')\n",
    "    print (' '+board[4]+' '+'|'+' '+board[5]+' '+'|'+' '+board[6]+' ')\n",
    "    print (' '+' '+' '+'|'+' '+' '+' '+'|'+' '+' '+' ')\n",
    "    print ('---|---|---')\n",
    "    \n",
    "    print (' '+' '+' '+'|'+' '+' '+' '+'|'+' '+' '+' ')\n",
    "    print (' '+board[1]+' '+'|'+' '+board[2]+' '+'|'+' '+board[3]+' ')\n",
    "    print (' '+' '+' '+'|'+' '+' '+' '+'|'+' '+' '+' ')\n",
    "    "
   ]
  },
  {
   "cell_type": "code",
   "execution_count": 3,
   "metadata": {},
   "outputs": [
    {
     "name": "stdout",
     "output_type": "stream",
     "text": [
      "Here is the current board\n",
      "\n",
      "\n",
      "   |   |   \n",
      " O | X | O \n",
      "   |   |   \n",
      "---|---|---\n",
      "   |   |   \n",
      " X | O | X \n",
      "   |   |   \n",
      "---|---|---\n",
      "   |   |   \n",
      " O | X | O \n",
      "   |   |   \n"
     ]
    }
   ],
   "source": [
    "# testing display to see if step1 works as intended\n",
    "\n",
    "board = ['#','O','X','O','X','O','X','O','X','O']\n",
    "\n",
    "display_board(board)"
   ]
  },
  {
   "cell_type": "markdown",
   "metadata": {},
   "source": [
    "### Step 2"
   ]
  },
  {
   "cell_type": "code",
   "execution_count": 4,
   "metadata": {},
   "outputs": [],
   "source": [
    "# assigning players markers\n",
    "\n",
    "def player_input():    \n",
    "    marker = ' '\n",
    "    \n",
    "    \n",
    "    while marker != 'X' and marker != 'O':\n",
    "        marker = input('Player1 pick a marker: X or O? ').upper()\n",
    "        \n",
    "        if marker != 'X' and marker != 'O':\n",
    "            print('Invalid choice, please pick either X or O!')\n",
    "    \n",
    "    player1 = marker\n",
    "    \n",
    "    if player1 == 'X':\n",
    "        player2 = 'O'\n",
    "    else:\n",
    "        player2 = 'X'\n",
    "        \n",
    "        \n",
    "    return (player1,player2)"
   ]
  },
  {
   "cell_type": "code",
   "execution_count": 5,
   "metadata": {},
   "outputs": [
    {
     "name": "stdout",
     "output_type": "stream",
     "text": [
      "Player1 pick a marker: X or O? x\n"
     ]
    },
    {
     "data": {
      "text/plain": [
       "('X', 'O')"
      ]
     },
     "execution_count": 5,
     "metadata": {},
     "output_type": "execute_result"
    }
   ],
   "source": [
    "# Testing player input function\n",
    "\n",
    "player_input()"
   ]
  },
  {
   "cell_type": "code",
   "execution_count": 6,
   "metadata": {},
   "outputs": [
    {
     "name": "stdout",
     "output_type": "stream",
     "text": [
      "Player1 pick a marker: X or O? x\n"
     ]
    }
   ],
   "source": [
    "# Assigning players markers into touples\n",
    "\n",
    "player1, player2 = player_input()"
   ]
  },
  {
   "cell_type": "code",
   "execution_count": 7,
   "metadata": {},
   "outputs": [
    {
     "data": {
      "text/plain": [
       "'X'"
      ]
     },
     "execution_count": 7,
     "metadata": {},
     "output_type": "execute_result"
    }
   ],
   "source": [
    "player1"
   ]
  },
  {
   "cell_type": "code",
   "execution_count": 8,
   "metadata": {},
   "outputs": [
    {
     "data": {
      "text/plain": [
       "'O'"
      ]
     },
     "execution_count": 8,
     "metadata": {},
     "output_type": "execute_result"
    }
   ],
   "source": [
    "player2"
   ]
  },
  {
   "cell_type": "markdown",
   "metadata": {},
   "source": [
    "### Step 3"
   ]
  },
  {
   "cell_type": "code",
   "execution_count": 9,
   "metadata": {},
   "outputs": [],
   "source": [
    "#Assigning players input to the board\n",
    "\n",
    "def place_marker(borad,marker,position):\n",
    "    \n",
    "    board[position] = marker"
   ]
  },
  {
   "cell_type": "code",
   "execution_count": 10,
   "metadata": {},
   "outputs": [
    {
     "name": "stdout",
     "output_type": "stream",
     "text": [
      "Here is the current board\n",
      "\n",
      "\n",
      "   |   |   \n",
      " O | O | O \n",
      "   |   |   \n",
      "---|---|---\n",
      "   |   |   \n",
      " X | O | X \n",
      "   |   |   \n",
      "---|---|---\n",
      "   |   |   \n",
      " O | X | O \n",
      "   |   |   \n"
     ]
    }
   ],
   "source": [
    "# Test\n",
    "\n",
    "place_marker(board,'O',8)\n",
    "display_board(board)"
   ]
  },
  {
   "cell_type": "markdown",
   "metadata": {},
   "source": [
    "### Step 4"
   ]
  },
  {
   "cell_type": "code",
   "execution_count": 11,
   "metadata": {},
   "outputs": [],
   "source": [
    "#Checking if someone has won the game\n",
    "\n",
    "def win_check(board, mark):\n",
    "    \n",
    "    return ((board[1] == board[2] == board[3] == mark) or #Bottom row\n",
    "    (board[4] == board[5] == board[6] == mark) or #Middle row\n",
    "    (board[7] == board[8] == board[9] == mark) or #Top row\n",
    "    (board[1] == board[4] == board[7] == mark) or #Left column\n",
    "    (board[2] == board[5] == board[8] == mark) or #Center column\n",
    "    (board[3] == board[6] == board[9] == mark) or #Right column\n",
    "    (board[1] == board[5] == board[9] == mark) or #Diagonal 1\n",
    "    (board[3] == board[5] == board[7] == mark))   #Diagonal 2"
   ]
  },
  {
   "cell_type": "code",
   "execution_count": 12,
   "metadata": {},
   "outputs": [
    {
     "data": {
      "text/plain": [
       "True"
      ]
     },
     "execution_count": 12,
     "metadata": {},
     "output_type": "execute_result"
    }
   ],
   "source": [
    "# Test\n",
    "win_check(board,'O')"
   ]
  },
  {
   "cell_type": "markdown",
   "metadata": {},
   "source": [
    "### Step 5"
   ]
  },
  {
   "cell_type": "code",
   "execution_count": 13,
   "metadata": {},
   "outputs": [],
   "source": [
    "# Choosing who to go first\n",
    "\n",
    "\n",
    "import random\n",
    "\n",
    "def choose_first():\n",
    "    flip = random.randint(0,1)\n",
    "    \n",
    "    if flip == 0:\n",
    "        return 'Player1'\n",
    "    else:\n",
    "        return 'Player2'"
   ]
  },
  {
   "cell_type": "code",
   "execution_count": 14,
   "metadata": {},
   "outputs": [
    {
     "data": {
      "text/plain": [
       "'Player2'"
      ]
     },
     "execution_count": 14,
     "metadata": {},
     "output_type": "execute_result"
    }
   ],
   "source": [
    "# Test\n",
    "\n",
    "choose_first()"
   ]
  },
  {
   "cell_type": "markdown",
   "metadata": {},
   "source": [
    "### Step 6"
   ]
  },
  {
   "cell_type": "code",
   "execution_count": 15,
   "metadata": {},
   "outputs": [],
   "source": [
    "# Checking if a space is available in the list\n",
    "\n",
    "\n",
    "def space_check(board,position):\n",
    "    \n",
    "    return board[position] == ' '"
   ]
  },
  {
   "cell_type": "markdown",
   "metadata": {},
   "source": [
    "### Step 7"
   ]
  },
  {
   "cell_type": "code",
   "execution_count": 16,
   "metadata": {},
   "outputs": [],
   "source": [
    "## Checking if the board is full\n",
    "\n",
    "def full_board_check(board):\n",
    "    \n",
    "    for i in range(1-10):\n",
    "        if space_check(board,i) == True:\n",
    "            return False\n",
    "        else:\n",
    "            return True"
   ]
  },
  {
   "cell_type": "markdown",
   "metadata": {},
   "source": [
    "### Step 8"
   ]
  },
  {
   "cell_type": "code",
   "execution_count": 17,
   "metadata": {},
   "outputs": [],
   "source": [
    "# Asking player for their next position and checking if that space is available\n",
    "\n",
    "def player_choice(board):\n",
    "    \n",
    "    position = 0\n",
    "    \n",
    "    while position not in range(1,10) and not space_check(board,position):\n",
    "        position = int(input('Choose a position (1-9): '))\n",
    "        \n",
    "    return position"
   ]
  },
  {
   "cell_type": "markdown",
   "metadata": {},
   "source": [
    "### Step 9"
   ]
  },
  {
   "cell_type": "code",
   "execution_count": 18,
   "metadata": {},
   "outputs": [],
   "source": [
    "# asking the player if the want to play again\n",
    "\n",
    "def replay():\n",
    "    \n",
    "    choice = input('Play again? enter Yes or No: ')\n",
    "        \n",
    "    return choice == 'Yes'"
   ]
  },
  {
   "cell_type": "markdown",
   "metadata": {},
   "source": [
    "### Step 10 (Putting all the codes together)"
   ]
  },
  {
   "cell_type": "code",
   "execution_count": null,
   "metadata": {},
   "outputs": [
    {
     "name": "stdout",
     "output_type": "stream",
     "text": [
      "Here is the current board\n",
      "\n",
      "\n",
      "   |   |   \n",
      "   |   |   \n",
      "   |   |   \n",
      "---|---|---\n",
      "   |   |   \n",
      " O | O |   \n",
      "   |   |   \n",
      "---|---|---\n",
      "   |   |   \n",
      " X | X | X \n",
      "   |   |   \n",
      "PLAYER 1 HAS WON!\n"
     ]
    }
   ],
   "source": [
    "print('Welcome to Tic Tac Toe!')\n",
    "\n",
    "#starting the game with a while loop\n",
    "while True:\n",
    "    \n",
    "    #set up the game\n",
    "    \n",
    "        ## set up the board, pick the marker, who goes first\n",
    "        \n",
    "        board = [' ']*10\n",
    "        \n",
    "        player1_marker, player2_marker = player_input()\n",
    "        \n",
    "        turn = choose_first()\n",
    "        print (turn + 'will go first')\n",
    "        \n",
    "        play_game = input('Ready to play? Y or N: ')\n",
    "        \n",
    "        if play_game == 'Y':\n",
    "            game_on = True\n",
    "        else:\n",
    "            game_on = False \n",
    "\n",
    "        \n",
    "    # gameplay\n",
    "        while game_on == True:\n",
    "            \n",
    "            #player1 turn\n",
    "            if turn == 'Player1':\n",
    "                \n",
    "                #display board\n",
    "                display_board(board)\n",
    "                \n",
    "                #choose position\n",
    "                position = player_choice(board)\n",
    "                \n",
    "                #replace position on board\n",
    "                place_marker(board,player1_marker,position)\n",
    "                \n",
    "                #check if they won\n",
    "                if win_check(board, player1_marker) == True:\n",
    "                    display_board(board)\n",
    "                    print ('PLAYER 1 HAS WON!')\n",
    "                    game_on = False\n",
    "                    \n",
    "                else:\n",
    "                #check if there is a tie\n",
    "                    if full_board_check(board):\n",
    "                        display_board(board)\n",
    "                        print(' TIE GAME!')\n",
    "                        game_on = False\n",
    "                    else:\n",
    "                        turn = 'Player2'\n",
    "\n",
    "        #player2 turn\n",
    "            else:\n",
    "                \n",
    "                #display board\n",
    "                display_board(board)\n",
    "                \n",
    "                #choose position\n",
    "                position = player_choice(board)\n",
    "                \n",
    "                #replace position on board\n",
    "                place_marker(board,player2_marker,position)\n",
    "                \n",
    "                #check if they won\n",
    "                if win_check(board, player2_marker) == True:\n",
    "                    display_board(board)\n",
    "                    print ('PLAYER 2 HAS WON!')\n",
    "                    game_on = False\n",
    "                    \n",
    "                else:\n",
    "                #check if there is a tie\n",
    "                    if full_board_check(board):\n",
    "                        display_board(board)\n",
    "                        print(' TIE GAME!')\n",
    "                        game_on = False\n",
    "                    else:\n",
    "                        turn = 'Player1'\n",
    "    \n",
    "    #play again\n",
    "    \n",
    "    \n",
    "    # if players didn't want to play, stop the code\n",
    "if not replay():\n",
    "    break"
   ]
  },
  {
   "cell_type": "code",
   "execution_count": null,
   "metadata": {},
   "outputs": [],
   "source": []
  }
 ],
 "metadata": {
  "kernelspec": {
   "display_name": "Python 3",
   "language": "python",
   "name": "python3"
  },
  "language_info": {
   "codemirror_mode": {
    "name": "ipython",
    "version": 3
   },
   "file_extension": ".py",
   "mimetype": "text/x-python",
   "name": "python",
   "nbconvert_exporter": "python",
   "pygments_lexer": "ipython3",
   "version": "3.8.10"
  }
 },
 "nbformat": 4,
 "nbformat_minor": 4
}
